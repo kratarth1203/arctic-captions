{
 "metadata": {
  "name": "",
  "signature": "sha256:64b98aa57f1a457a03da1917adaee88bcfa2dbe95de9c66f6771e99dffd250d8"
 },
 "nbformat": 3,
 "nbformat_minor": 0,
 "worksheets": [
  {
   "cells": [
    {
     "cell_type": "code",
     "collapsed": false,
     "input": [
      "import theano\n",
      "from theano import tensor\n",
      "from theano.sandbox.rng_mrg import MRG_RandomStreams as RandomStreams"
     ],
     "language": "python",
     "metadata": {},
     "outputs": [],
     "prompt_number": 1
    },
    {
     "cell_type": "code",
     "collapsed": false,
     "input": [
      "import cPickle as pkl\n",
      "import numpy\n",
      "\n",
      "import matplotlib.pyplot as plt\n",
      "import matplotlib.cm as cm\n",
      "\n",
      "import skimage\n",
      "import skimage.transform\n",
      "import skimage.io\n",
      "\n",
      "from PIL import Image"
     ],
     "language": "python",
     "metadata": {},
     "outputs": [],
     "prompt_number": 2
    },
    {
     "cell_type": "code",
     "collapsed": false,
     "input": [
      "import capgen\n",
      "import generate_caps as gencaps\n",
      "import flickr8k"
     ],
     "language": "python",
     "metadata": {},
     "outputs": [],
     "prompt_number": 3
    },
    {
     "cell_type": "code",
     "collapsed": false,
     "input": [
      "dev_list = './Flickr_8k.devImages.txt'\n",
      "flist = []\n",
      "with open(dev_list, 'r') as f:\n",
      "    for l in f:\n",
      "        flist.append(l.strip())\n",
      "image_path = './images/Flicker8k_Dataset/'"
     ],
     "language": "python",
     "metadata": {},
     "outputs": [],
     "prompt_number": 4
    },
    {
     "cell_type": "code",
     "collapsed": false,
     "input": [
      "def LoadImage(file_name, resize=256, crop=224):\n",
      "  image = Image.open(file_name)\n",
      "  width, height = image.size\n",
      "\n",
      "  if width > height:\n",
      "    width = (width * resize) / height\n",
      "    height = resize\n",
      "  else:\n",
      "    height = (height * resize) / width\n",
      "    width = resize\n",
      "  left = (width  - crop) / 2\n",
      "  top  = (height - crop) / 2\n",
      "  image_resized = image.resize((width, height), Image.BICUBIC).crop((left, top, left + crop, top + crop))\n",
      "  data = numpy.array(image_resized.convert('RGB').getdata()).reshape(crop, crop, 3)\n",
      "  data = data.astype('float32') / 255\n",
      "  return data"
     ],
     "language": "python",
     "metadata": {},
     "outputs": [],
     "prompt_number": 5
    },
    {
     "cell_type": "code",
     "collapsed": false,
     "input": [
      "model='./bleu_validated_44.npz' #'./model_lstm_flickr8k.npz'"
     ],
     "language": "python",
     "metadata": {},
     "outputs": [],
     "prompt_number": 6
    },
    {
     "cell_type": "code",
     "collapsed": false,
     "input": [
      "    # load model model_options\n",
      "    with open('%s.pkl'%model, 'rb') as f:\n",
      "        options = pkl.load(f)\n",
      "\n",
      "    load_data, prepare_data = flickr8k.load_data, flickr8k.prepare_data\n",
      "\n",
      "    train, valid, test, worddict = load_data(False, True, False, './')\n",
      "\n",
      "    word_idict = dict()\n",
      "    for kk, vv in worddict.iteritems():\n",
      "        word_idict[vv] = kk\n",
      "    word_idict[0] = '<eos>'\n",
      "    word_idict[1] = 'UNK'"
     ],
     "language": "python",
     "metadata": {},
     "outputs": [
      {
       "output_type": "stream",
       "stream": "stdout",
       "text": [
        "... loading data\n"
       ]
      }
     ],
     "prompt_number": 7
    },
    {
     "cell_type": "code",
     "collapsed": false,
     "input": [
      "    trng = RandomStreams(1234)\n",
      "    use_noise = theano.shared(numpy.float32(0.), name='use_noise')\n",
      "\n",
      "    params = capgen.init_params(options)\n",
      "    params = capgen.load_params(model, params)\n",
      "    tparams = capgen.init_tparams(params)\n",
      "\n",
      "    # word index\n",
      "    f_init, f_next = capgen.build_sampler(tparams, options, use_noise, trng)"
     ],
     "language": "python",
     "metadata": {},
     "outputs": [
      {
       "output_type": "stream",
       "stream": "stdout",
       "text": [
        "Building f_init... "
       ]
      },
      {
       "output_type": "stream",
       "stream": "stderr",
       "text": [
        "/usr/local/Cellar/python/2.7.8_1/Frameworks/Python.framework/Versions/2.7/lib/python2.7/site-packages/Theano-0.6.0-py2.7.egg/theano/sandbox/rng_mrg.py:1195: UserWarning: MRG_RandomStreams Can't determine #streams from size (Shape.0), guessing 60*256\n",
        "  nstreams = self.n_streams(size)\n",
        "/usr/local/Cellar/python/2.7.8_1/Frameworks/Python.framework/Versions/2.7/lib/python2.7/site-packages/Theano-0.6.0-py2.7.egg/theano/sandbox/rng_mrg.py:1195: UserWarning: MRG_RandomStreams Can't determine #streams from size (Elemwise{Cast{int32}}.0), guessing 60*256\n",
        "  nstreams = self.n_streams(size)\n"
       ]
      },
      {
       "output_type": "stream",
       "stream": "stdout",
       "text": [
        "Done\n"
       ]
      }
     ],
     "prompt_number": 8
    },
    {
     "cell_type": "code",
     "collapsed": false,
     "input": [
      "    trng, use_noise, \\\n",
      "          inps, alphas, \\\n",
      "          cost, opt_outs = \\\n",
      "          capgen.build_model(tparams, options)"
     ],
     "language": "python",
     "metadata": {},
     "outputs": [],
     "prompt_number": 9
    },
    {
     "cell_type": "code",
     "collapsed": false,
     "input": [
      "f_alpha = theano.function(inps, alphas, name='f_alpha')\n",
      "if options['selector']:\n",
      "    f_sels = theano.function(inps, opt_outs['selector'], name='f_sels')"
     ],
     "language": "python",
     "metadata": {},
     "outputs": [
      {
       "output_type": "stream",
       "stream": "stderr",
       "text": [
        "/usr/local/Cellar/python/2.7.8_1/Frameworks/Python.framework/Versions/2.7/lib/python2.7/site-packages/Theano-0.6.0-py2.7.egg/theano/tensor/opt.py:2503: FutureWarning: comparison to `None` will result in an elementwise object comparison in the future.\n",
        "  if (replace_x == replace_y and\n",
        "/usr/local/Cellar/python/2.7.8_1/Frameworks/Python.framework/Versions/2.7/lib/python2.7/site-packages/Theano-0.6.0-py2.7.egg/theano/scan_module/scan_perform_ext.py:133: RuntimeWarning: numpy.ndarray size changed, may indicate binary incompatibility\n",
        "  from scan_perform.scan_perform import *\n"
       ]
      }
     ],
     "prompt_number": 10
    },
    {
     "cell_type": "code",
     "collapsed": false,
     "input": [
      "idx = numpy.random.randint(0, len(valid[0]))\n",
      "k = 10 # beam width\n",
      "use_gt = False # set to False if you want to use the generated sample\n",
      "gt = valid[0][idx][0] # groundtruth\n",
      "context = numpy.array(valid[1][valid[0][idx][1]].todense()).reshape([14*14, 512]) # annotations\n",
      "img = LoadImage(image_path+flist[valid[0][idx][1]])"
     ],
     "language": "python",
     "metadata": {},
     "outputs": [],
     "prompt_number": 84
    },
    {
     "cell_type": "code",
     "collapsed": false,
     "input": [
      "if not use_gt:\n",
      "    sample, score = capgen.gen_sample(tparams, f_init, f_next, context, \n",
      "                                      options, trng=trng, k=k, maxlen=200, stochastic=False)\n",
      "    sidx = numpy.argmin(score)\n",
      "    caption = sample[sidx][:-1]"
     ],
     "language": "python",
     "metadata": {},
     "outputs": [],
     "prompt_number": 85
    },
    {
     "cell_type": "code",
     "collapsed": false,
     "input": [
      "if use_gt:\n",
      "    caption = map(lambda w: worddict[w] if worddict[w] < options['n_words'] else 1, gt.split())\n",
      "words = map(lambda w: word_idict[w] if w in word_idict else '<UNK>', caption)\n",
      "print 'Sample:', ' '.join(words)\n",
      "print 'GT:', gt"
     ],
     "language": "python",
     "metadata": {},
     "outputs": [
      {
       "output_type": "stream",
       "stream": "stdout",
       "text": [
        "Sample: The little girl is playing in a grassy field .\n",
        "GT: A young boy runs towards a blue soccer ball in front of a goal .\n"
       ]
      }
     ],
     "prompt_number": 86
    },
    {
     "cell_type": "code",
     "collapsed": false,
     "input": [
      "alpha = f_alpha(numpy.array(caption).reshape(len(caption),1), \n",
      "                numpy.ones((len(caption),1), dtype='float32'), \n",
      "                context.reshape(1,context.shape[0],context.shape[1]))\n",
      "if options['selector']:\n",
      "    sels = f_sels(numpy.array(caption).reshape(len(caption),1), \n",
      "                   numpy.ones((len(caption),1), dtype='float32'), \n",
      "                   context.reshape(1,context.shape[0],context.shape[1]))"
     ],
     "language": "python",
     "metadata": {},
     "outputs": [],
     "prompt_number": 87
    },
    {
     "cell_type": "code",
     "collapsed": false,
     "input": [
      "n_words = alpha.shape[0] + 1\n",
      "w = numpy.round(numpy.sqrt(n_words))\n",
      "h = numpy.ceil(numpy.float32(n_words) / w)\n",
      "        \n",
      "plt.subplot(w, h, 1)\n",
      "plt.imshow(img)\n",
      "plt.axis('off')\n",
      "\n",
      "for ii in xrange(alpha.shape[0]):\n",
      "    plt.subplot(w, h, ii+2)\n",
      "    lab = words[ii]\n",
      "    if options['selector']:\n",
      "        lab += '(%0.2f)'%sels[ii]\n",
      "    plt.text(0, 1, lab, backgroundcolor='white', fontsize=13)\n",
      "    plt.text(0, 1, lab, color='black', fontsize=13)\n",
      "    plt.imshow(img)\n",
      "    alpha_img = skimage.transform.resize(alpha[ii,0,:].reshape(14,14), [img.shape[0], img.shape[1]])\n",
      "    plt.imshow(alpha_img, alpha=0.8)\n",
      "    plt.set_cmap(cm.Greys_r)\n",
      "    plt.axis('off')\n",
      "plt.show()"
     ],
     "language": "python",
     "metadata": {},
     "outputs": [],
     "prompt_number": 88
    },
    {
     "cell_type": "heading",
     "level": 1,
     "metadata": {},
     "source": [
      "gt"
     ]
    },
    {
     "cell_type": "code",
     "collapsed": false,
     "input": [
      "img.shape"
     ],
     "language": "python",
     "metadata": {},
     "outputs": [
      {
       "metadata": {},
       "output_type": "pyout",
       "prompt_number": 986,
       "text": [
        "(50176, 3)"
       ]
      }
     ],
     "prompt_number": 986
    },
    {
     "cell_type": "code",
     "collapsed": false,
     "input": [
      "alpha.squeeze().std(-1)"
     ],
     "language": "python",
     "metadata": {},
     "outputs": [
      {
       "metadata": {},
       "output_type": "pyout",
       "prompt_number": 184,
       "text": [
        "array([ 0.01661969,  0.01018644,  0.01450743,  0.01730231,  0.01711249,\n",
        "        0.0138909 ,  0.01811301,  0.01991926,  0.01778676,  0.01233027,\n",
        "        0.01841464], dtype=float32)"
       ]
      }
     ],
     "prompt_number": 184
    },
    {
     "cell_type": "code",
     "collapsed": false,
     "input": [
      "alpha.squeeze()"
     ],
     "language": "python",
     "metadata": {},
     "outputs": [
      {
       "metadata": {},
       "output_type": "pyout",
       "prompt_number": 109,
       "text": [
        "array([[  2.15790211e-03,   1.56344823e-03,   1.77345797e-03, ...,\n",
        "          8.48655496e-03,   8.85327999e-03,   5.86064160e-03],\n",
        "       [  2.45090014e-05,   2.89914551e-05,   2.51186229e-05, ...,\n",
        "          6.93306356e-06,   4.00962699e-06,   4.75463867e-06],\n",
        "       [  1.87280268e-04,   1.96066379e-04,   1.54087233e-04, ...,\n",
        "          1.28363172e-04,   8.94787954e-05,   8.39618151e-05],\n",
        "       ..., \n",
        "       [  6.79782315e-05,   3.57266545e-05,   3.33531534e-05, ...,\n",
        "          3.84662068e-03,   4.55249241e-03,   1.30926864e-03],\n",
        "       [  7.57736689e-06,   4.24512973e-06,   3.73024227e-06, ...,\n",
        "          1.58826995e-03,   1.64754211e-03,   2.89120246e-04],\n",
        "       [  1.36179551e-05,   7.25802738e-06,   6.27901727e-06, ...,\n",
        "          1.41343533e-03,   1.47602754e-03,   3.32970230e-04]], dtype=float32)"
       ]
      }
     ],
     "prompt_number": 109
    },
    {
     "cell_type": "code",
     "collapsed": false,
     "input": [
      "len(valid[0])"
     ],
     "language": "python",
     "metadata": {},
     "outputs": [
      {
       "metadata": {},
       "output_type": "pyout",
       "prompt_number": 31,
       "text": [
        "5000"
       ]
      }
     ],
     "prompt_number": 31
    },
    {
     "cell_type": "code",
     "collapsed": false,
     "input": [
      "reload(capgen)"
     ],
     "language": "python",
     "metadata": {},
     "outputs": [
      {
       "metadata": {},
       "output_type": "pyout",
       "prompt_number": 293,
       "text": [
        "<module 'capgen' from 'capgen.py'>"
       ]
      }
     ],
     "prompt_number": 293
    },
    {
     "cell_type": "code",
     "collapsed": false,
     "input": [
      "plt.imshow(img)\n",
      "plt.show()"
     ],
     "language": "python",
     "metadata": {},
     "outputs": [],
     "prompt_number": 516
    },
    {
     "cell_type": "code",
     "collapsed": false,
     "input": [
      "reload(plt)"
     ],
     "language": "python",
     "metadata": {},
     "outputs": [
      {
       "metadata": {},
       "output_type": "pyout",
       "prompt_number": 513,
       "text": [
        "<module 'matplotlib.pyplot' from '/usr/local/lib/python2.7/site-packages/matplotlib/pyplot.pyc'>"
       ]
      }
     ],
     "prompt_number": 513
    },
    {
     "cell_type": "code",
     "collapsed": false,
     "input": [
      "alpha_img = skimage.transform.resize(alpha[ii,0,:].reshape(14,14), [img.shape[0], img.shape[1]])\n",
      "plt.imshow(alpha_img)\n",
      "plt.show()"
     ],
     "language": "python",
     "metadata": {},
     "outputs": [],
     "prompt_number": 525
    },
    {
     "cell_type": "code",
     "collapsed": false,
     "input": [
      "img.shape"
     ],
     "language": "python",
     "metadata": {},
     "outputs": [
      {
       "metadata": {},
       "output_type": "pyout",
       "prompt_number": 523,
       "text": [
        "(388, 500, 3)"
       ]
      }
     ],
     "prompt_number": 523
    },
    {
     "cell_type": "code",
     "collapsed": false,
     "input": [],
     "language": "python",
     "metadata": {},
     "outputs": []
    }
   ],
   "metadata": {}
  }
 ]
}
